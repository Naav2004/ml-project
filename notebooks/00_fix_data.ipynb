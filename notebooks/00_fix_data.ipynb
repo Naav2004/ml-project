{
 "cells": [
  {
   "cell_type": "code",
   "execution_count": 1,
   "metadata": {},
   "outputs": [],
   "source": [
    "import pandas as pd\n",
    "import os"
   ]
  },
  {
   "cell_type": "code",
   "execution_count": 2,
   "metadata": {},
   "outputs": [],
   "source": [
    "os.chdir('../')"
   ]
  },
  {
   "cell_type": "code",
   "execution_count": 3,
   "metadata": {},
   "outputs": [],
   "source": [
    "data = pd.read_excel('data/raw/data.xlsx')"
   ]
  },
  {
   "cell_type": "code",
   "execution_count": 4,
   "metadata": {},
   "outputs": [
    {
     "data": {
      "text/html": [
       "<div>\n",
       "<style scoped>\n",
       "    .dataframe tbody tr th:only-of-type {\n",
       "        vertical-align: middle;\n",
       "    }\n",
       "\n",
       "    .dataframe tbody tr th {\n",
       "        vertical-align: top;\n",
       "    }\n",
       "\n",
       "    .dataframe thead th {\n",
       "        text-align: right;\n",
       "    }\n",
       "</style>\n",
       "<table border=\"1\" class=\"dataframe\">\n",
       "  <thead>\n",
       "    <tr style=\"text-align: right;\">\n",
       "      <th></th>\n",
       "      <th>Nombre y Apellidos</th>\n",
       "      <th>Fecha ingeso</th>\n",
       "      <th>Fecha egreso</th>\n",
       "      <th>Estadia Hospitalaria</th>\n",
       "      <th>Estado del egreso</th>\n",
       "      <th>Edad</th>\n",
       "      <th>Sexo</th>\n",
       "      <th>Raza</th>\n",
       "      <th>Ventilacion</th>\n",
       "      <th>APP</th>\n",
       "      <th>...</th>\n",
       "      <th>E coli/Klebsiella</th>\n",
       "      <th>Actinectobacter</th>\n",
       "      <th>Enterobacter</th>\n",
       "      <th>enterobacter/proteus</th>\n",
       "      <th>Tipo de cirugia</th>\n",
       "      <th>TIEMPO CIRUGIA INICIAL</th>\n",
       "      <th>EXTRAHOSPITALARIA</th>\n",
       "      <th>NUMERO DE REINTERVENCIONES</th>\n",
       "      <th>NUMERO INTERVENCIONES</th>\n",
       "      <th>Tiempo quirurgico</th>\n",
       "    </tr>\n",
       "  </thead>\n",
       "  <tbody>\n",
       "    <tr>\n",
       "      <th>0</th>\n",
       "      <td>OCP</td>\n",
       "      <td>2021-05-10</td>\n",
       "      <td>2021-05-24</td>\n",
       "      <td>14.0</td>\n",
       "      <td>0.0</td>\n",
       "      <td>53.0</td>\n",
       "      <td>1.0</td>\n",
       "      <td>1.0</td>\n",
       "      <td>1.0</td>\n",
       "      <td>Etilico cronico</td>\n",
       "      <td>...</td>\n",
       "      <td>0.0</td>\n",
       "      <td>0.0</td>\n",
       "      <td>0.0</td>\n",
       "      <td>0.0</td>\n",
       "      <td>1.0</td>\n",
       "      <td>1.0</td>\n",
       "      <td>1.0</td>\n",
       "      <td>0.0</td>\n",
       "      <td>1.0</td>\n",
       "      <td>2.40</td>\n",
       "    </tr>\n",
       "    <tr>\n",
       "      <th>1</th>\n",
       "      <td>YSJC</td>\n",
       "      <td>2021-10-06</td>\n",
       "      <td>2021-10-30</td>\n",
       "      <td>24.0</td>\n",
       "      <td>0.0</td>\n",
       "      <td>24.0</td>\n",
       "      <td>2.0</td>\n",
       "      <td>1.0</td>\n",
       "      <td>1.0</td>\n",
       "      <td>SANO</td>\n",
       "      <td>...</td>\n",
       "      <td>0.0</td>\n",
       "      <td>0.0</td>\n",
       "      <td>0.0</td>\n",
       "      <td>0.0</td>\n",
       "      <td>1.0</td>\n",
       "      <td>2.0</td>\n",
       "      <td>0.0</td>\n",
       "      <td>0.0</td>\n",
       "      <td>1.0</td>\n",
       "      <td>2.15</td>\n",
       "    </tr>\n",
       "    <tr>\n",
       "      <th>2</th>\n",
       "      <td>MVR</td>\n",
       "      <td>2021-05-25</td>\n",
       "      <td>2021-06-07</td>\n",
       "      <td>13.0</td>\n",
       "      <td>0.0</td>\n",
       "      <td>36.0</td>\n",
       "      <td>2.0</td>\n",
       "      <td>1.0</td>\n",
       "      <td>1.0</td>\n",
       "      <td>SANO</td>\n",
       "      <td>...</td>\n",
       "      <td>0.0</td>\n",
       "      <td>0.0</td>\n",
       "      <td>0.0</td>\n",
       "      <td>0.0</td>\n",
       "      <td>1.0</td>\n",
       "      <td>2.0</td>\n",
       "      <td>0.0</td>\n",
       "      <td>0.0</td>\n",
       "      <td>1.0</td>\n",
       "      <td>3.00</td>\n",
       "    </tr>\n",
       "    <tr>\n",
       "      <th>3</th>\n",
       "      <td>ARCC</td>\n",
       "      <td>2021-05-07</td>\n",
       "      <td>2021-05-19</td>\n",
       "      <td>12.0</td>\n",
       "      <td>0.0</td>\n",
       "      <td>58.0</td>\n",
       "      <td>1.0</td>\n",
       "      <td>1.0</td>\n",
       "      <td>2.0</td>\n",
       "      <td>HTA,DM</td>\n",
       "      <td>...</td>\n",
       "      <td>0.0</td>\n",
       "      <td>0.0</td>\n",
       "      <td>0.0</td>\n",
       "      <td>0.0</td>\n",
       "      <td>1.0</td>\n",
       "      <td>2.0</td>\n",
       "      <td>1.0</td>\n",
       "      <td>0.0</td>\n",
       "      <td>1.0</td>\n",
       "      <td>2.50</td>\n",
       "    </tr>\n",
       "    <tr>\n",
       "      <th>4</th>\n",
       "      <td>YCY</td>\n",
       "      <td>2021-09-27</td>\n",
       "      <td>2021-10-21</td>\n",
       "      <td>24.0</td>\n",
       "      <td>0.0</td>\n",
       "      <td>43.0</td>\n",
       "      <td>1.0</td>\n",
       "      <td>1.0</td>\n",
       "      <td>2.0</td>\n",
       "      <td>HTA, fumador</td>\n",
       "      <td>...</td>\n",
       "      <td>0.0</td>\n",
       "      <td>0.0</td>\n",
       "      <td>0.0</td>\n",
       "      <td>0.0</td>\n",
       "      <td>1.0</td>\n",
       "      <td>2.0</td>\n",
       "      <td>0.0</td>\n",
       "      <td>1.0</td>\n",
       "      <td>1.0</td>\n",
       "      <td>3.45</td>\n",
       "    </tr>\n",
       "  </tbody>\n",
       "</table>\n",
       "<p>5 rows × 83 columns</p>\n",
       "</div>"
      ],
      "text/plain": [
       "  Nombre y Apellidos Fecha ingeso  Fecha egreso   Estadia Hospitalaria  \\\n",
       "0                OCP    2021-05-10    2021-05-24                  14.0   \n",
       "1               YSJC    2021-10-06    2021-10-30                  24.0   \n",
       "2                MVR    2021-05-25    2021-06-07                  13.0   \n",
       "3               ARCC    2021-05-07    2021-05-19                  12.0   \n",
       "4                YCY    2021-09-27    2021-10-21                  24.0   \n",
       "\n",
       "   Estado del egreso  Edad  Sexo  Raza  Ventilacion              APP  ...  \\\n",
       "0                0.0  53.0   1.0   1.0          1.0  Etilico cronico  ...   \n",
       "1                0.0  24.0   2.0   1.0          1.0             SANO  ...   \n",
       "2                0.0  36.0   2.0   1.0          1.0             SANO  ...   \n",
       "3                0.0  58.0   1.0   1.0          2.0           HTA,DM  ...   \n",
       "4                0.0  43.0   1.0   1.0          2.0     HTA, fumador  ...   \n",
       "\n",
       "   E coli/Klebsiella  Actinectobacter  Enterobacter  enterobacter/proteus  \\\n",
       "0                0.0              0.0           0.0                   0.0   \n",
       "1                0.0              0.0           0.0                   0.0   \n",
       "2                0.0              0.0           0.0                   0.0   \n",
       "3                0.0              0.0           0.0                   0.0   \n",
       "4                0.0              0.0           0.0                   0.0   \n",
       "\n",
       "   Tipo de cirugia   TIEMPO CIRUGIA INICIAL   EXTRAHOSPITALARIA   \\\n",
       "0               1.0                      1.0                 1.0   \n",
       "1               1.0                      2.0                 0.0   \n",
       "2               1.0                      2.0                 0.0   \n",
       "3               1.0                      2.0                 1.0   \n",
       "4               1.0                      2.0                 0.0   \n",
       "\n",
       "   NUMERO DE REINTERVENCIONES  NUMERO INTERVENCIONES  Tiempo quirurgico  \n",
       "0                         0.0                    1.0               2.40  \n",
       "1                         0.0                    1.0               2.15  \n",
       "2                         0.0                    1.0               3.00  \n",
       "3                         0.0                    1.0               2.50  \n",
       "4                         1.0                    1.0               3.45  \n",
       "\n",
       "[5 rows x 83 columns]"
      ]
     },
     "execution_count": 4,
     "metadata": {},
     "output_type": "execute_result"
    }
   ],
   "source": [
    "data.head()"
   ]
  },
  {
   "cell_type": "code",
   "execution_count": 5,
   "metadata": {},
   "outputs": [
    {
     "data": {
      "text/plain": [
       "Index(['Nombre y Apellidos', 'Fecha ingeso ', 'Fecha egreso ',\n",
       "       'Estadia Hospitalaria', 'Estado del egreso', 'Edad', 'Sexo', 'Raza',\n",
       "       'Ventilacion', 'APP', 'Sin antecedentes', 'Materna', 'HTA', 'DM', 'CI',\n",
       "       'AB', 'EPOC', 'LES', 'Epilepsia', 'tiroides',\n",
       "       'Consumidos de beidas alcolicas', 'Fumador', 'obesidad', 'DX Ingreso',\n",
       "       'Apendicitis Aguda ', 'Patologias Biliares ', 'Diverticulitis',\n",
       "       'Perforacion GASTRICA/duodenal', 'Peritonitis urinaria',\n",
       "       'Pelvis peritonitis', 'Fuga de anastomosis',\n",
       "       'peritonitis postraumatica', 'Cirugia de control de daño',\n",
       "       'Cirugia tumoral', 'Abcedadas', 'OIMB', 'Cirugia de traumas',\n",
       "       'Total de diagnosticos', 'Indice de mannheim', 'Apache al ingreso',\n",
       "       'Agravantes ', 'Sin agravantes', 'IRA', 'FMO', 'Shock septico', ' ARDS',\n",
       "       'Shock mixto', 'Disfunciòn Hepàtica', 'CID', 'TEP', 'HDA', 'TVP',\n",
       "       'OTRAS', 'Valores de Gasometria', 'Trastorno metabòlico',\n",
       "       'Acidosis metabòlica', 'Trastorno de Sodio', 'Trastornos del Potasio',\n",
       "       'Trastornos del calcio', 'Antibiotico', 'Germen', 'CONTAMINADAS ',\n",
       "       'PROTEUS', 'SCN', 'Pseudomona aeruginosa', 'klebsiella pn',\n",
       "       'klebsiella/proteus', 'klebsiella/pseudomona',\n",
       "       'klebsiella/Acynetobacter', 'E Coli ', 'Ecoli/enterobacter',\n",
       "       'Ecoli/Pseudomona', 'E coli/proteus', 'E coli/Klebsiella',\n",
       "       'Actinectobacter', 'Enterobacter', 'enterobacter/proteus',\n",
       "       'Tipo de cirugia ', 'TIEMPO CIRUGIA INICIAL ', 'EXTRAHOSPITALARIA ',\n",
       "       'NUMERO DE REINTERVENCIONES', 'NUMERO INTERVENCIONES',\n",
       "       'Tiempo quirurgico'],\n",
       "      dtype='object')"
      ]
     },
     "execution_count": 5,
     "metadata": {},
     "output_type": "execute_result"
    }
   ],
   "source": [
    "data.columns"
   ]
  },
  {
   "cell_type": "code",
   "execution_count": 6,
   "metadata": {},
   "outputs": [
    {
     "data": {
      "text/plain": [
       "'PH:7,48/PCO2:31,7/PO2:-/SB:23.7/EB:1,2/NA:135/K:2.7/CA:0,62'"
      ]
     },
     "execution_count": 6,
     "metadata": {},
     "output_type": "execute_result"
    }
   ],
   "source": [
    "data['Valores de Gasometria'][0]"
   ]
  },
  {
   "cell_type": "code",
   "execution_count": 7,
   "metadata": {},
   "outputs": [
    {
     "name": "stdout",
     "output_type": "stream",
     "text": [
      "<class 'pandas.core.series.Series'>\n",
      "RangeIndex: 96 entries, 0 to 95\n",
      "Series name: Valores de Gasometria\n",
      "Non-Null Count  Dtype \n",
      "--------------  ----- \n",
      "95 non-null     object\n",
      "dtypes: object(1)\n",
      "memory usage: 900.0+ bytes\n"
     ]
    }
   ],
   "source": [
    "data['Valores de Gasometria'].info()"
   ]
  },
  {
   "cell_type": "code",
   "execution_count": 8,
   "metadata": {},
   "outputs": [],
   "source": [
    "data.drop(index=95, axis=0, inplace=True)"
   ]
  },
  {
   "cell_type": "code",
   "execution_count": 9,
   "metadata": {},
   "outputs": [],
   "source": [
    "parameters = ['PH', 'PCO2', 'PO2', 'SB', 'EB', 'NA', 'K', 'CA']\n",
    "\n",
    "for _, parameter in enumerate(parameters):\n",
    "    data[parameter] = data['Valores de Gasometria'].apply(lambda x: x.split('/')[_]).apply(lambda x: x.replace(parameter, '')).apply(lambda x: x.replace(':', '')).apply(lambda x: x.replace(',', '.'))\n",
    "    "
   ]
  },
  {
   "cell_type": "code",
   "execution_count": 10,
   "metadata": {},
   "outputs": [
    {
     "data": {
      "text/html": [
       "<div>\n",
       "<style scoped>\n",
       "    .dataframe tbody tr th:only-of-type {\n",
       "        vertical-align: middle;\n",
       "    }\n",
       "\n",
       "    .dataframe tbody tr th {\n",
       "        vertical-align: top;\n",
       "    }\n",
       "\n",
       "    .dataframe thead th {\n",
       "        text-align: right;\n",
       "    }\n",
       "</style>\n",
       "<table border=\"1\" class=\"dataframe\">\n",
       "  <thead>\n",
       "    <tr style=\"text-align: right;\">\n",
       "      <th></th>\n",
       "      <th>PH</th>\n",
       "      <th>PCO2</th>\n",
       "      <th>PO2</th>\n",
       "      <th>SB</th>\n",
       "      <th>EB</th>\n",
       "      <th>NA</th>\n",
       "      <th>K</th>\n",
       "      <th>CA</th>\n",
       "    </tr>\n",
       "  </thead>\n",
       "  <tbody>\n",
       "    <tr>\n",
       "      <th>0</th>\n",
       "      <td>7.48</td>\n",
       "      <td>31.7</td>\n",
       "      <td>-</td>\n",
       "      <td>23.7</td>\n",
       "      <td>1.2</td>\n",
       "      <td>135</td>\n",
       "      <td>2.7</td>\n",
       "      <td>0.62</td>\n",
       "    </tr>\n",
       "    <tr>\n",
       "      <th>1</th>\n",
       "      <td>7.36</td>\n",
       "      <td>38.3</td>\n",
       "      <td>124</td>\n",
       "      <td>25</td>\n",
       "      <td>-1.2</td>\n",
       "      <td>138</td>\n",
       "      <td>3.04</td>\n",
       "      <td>0.97</td>\n",
       "    </tr>\n",
       "    <tr>\n",
       "      <th>2</th>\n",
       "      <td>7.16</td>\n",
       "      <td>43.7</td>\n",
       "      <td>92</td>\n",
       "      <td>15.7</td>\n",
       "      <td>-9.1</td>\n",
       "      <td>132</td>\n",
       "      <td>2.7</td>\n",
       "      <td>0.62</td>\n",
       "    </tr>\n",
       "    <tr>\n",
       "      <th>3</th>\n",
       "      <td>7.12</td>\n",
       "      <td>50.1</td>\n",
       "      <td>82</td>\n",
       "      <td>12.5</td>\n",
       "      <td>-15.6</td>\n",
       "      <td>129</td>\n",
       "      <td>2.2</td>\n",
       "      <td>0.96</td>\n",
       "    </tr>\n",
       "    <tr>\n",
       "      <th>4</th>\n",
       "      <td>7.25</td>\n",
       "      <td>48.7</td>\n",
       "      <td>86.6</td>\n",
       "      <td>19.9</td>\n",
       "      <td>-6.7</td>\n",
       "      <td>132</td>\n",
       "      <td>3.4</td>\n",
       "      <td>0.99</td>\n",
       "    </tr>\n",
       "    <tr>\n",
       "      <th>...</th>\n",
       "      <td>...</td>\n",
       "      <td>...</td>\n",
       "      <td>...</td>\n",
       "      <td>...</td>\n",
       "      <td>...</td>\n",
       "      <td>...</td>\n",
       "      <td>...</td>\n",
       "      <td>...</td>\n",
       "    </tr>\n",
       "    <tr>\n",
       "      <th>90</th>\n",
       "      <td>7.22</td>\n",
       "      <td>41</td>\n",
       "      <td>79.1</td>\n",
       "      <td>22.1</td>\n",
       "      <td>-4.9</td>\n",
       "      <td>137</td>\n",
       "      <td>.73.33</td>\n",
       "      <td>0.89</td>\n",
       "    </tr>\n",
       "    <tr>\n",
       "      <th>91</th>\n",
       "      <td>7.26</td>\n",
       "      <td>41.7</td>\n",
       "      <td>75</td>\n",
       "      <td>20.2</td>\n",
       "      <td>- 6.4</td>\n",
       "      <td>141</td>\n",
       "      <td>2.90</td>\n",
       "      <td>0.77</td>\n",
       "    </tr>\n",
       "    <tr>\n",
       "      <th>92</th>\n",
       "      <td>7.37</td>\n",
       "      <td>44</td>\n",
       "      <td>105.</td>\n",
       "      <td>18.2</td>\n",
       "      <td>- 7.4</td>\n",
       "      <td>141</td>\n",
       "      <td>2.55</td>\n",
       "      <td>0.65</td>\n",
       "    </tr>\n",
       "    <tr>\n",
       "      <th>93</th>\n",
       "      <td>7.36</td>\n",
       "      <td>45</td>\n",
       "      <td>87.3</td>\n",
       "      <td>20</td>\n",
       "      <td>-7.3</td>\n",
       "      <td>145.</td>\n",
       "      <td>4.28</td>\n",
       "      <td>1.23</td>\n",
       "    </tr>\n",
       "    <tr>\n",
       "      <th>94</th>\n",
       "      <td>7.29</td>\n",
       "      <td>53.6</td>\n",
       "      <td>69.3</td>\n",
       "      <td>17.7</td>\n",
       "      <td>- 9.9</td>\n",
       "      <td>136.4</td>\n",
       "      <td>.71.36</td>\n",
       "      <td>0.47</td>\n",
       "    </tr>\n",
       "  </tbody>\n",
       "</table>\n",
       "<p>95 rows × 8 columns</p>\n",
       "</div>"
      ],
      "text/plain": [
       "      PH  PCO2   PO2    SB     EB     NA       K    CA\n",
       "0   7.48  31.7     -  23.7    1.2    135     2.7  0.62\n",
       "1   7.36  38.3   124    25   -1.2    138    3.04  0.97\n",
       "2   7.16  43.7    92  15.7   -9.1    132     2.7  0.62\n",
       "3   7.12  50.1    82  12.5  -15.6    129     2.2  0.96\n",
       "4   7.25  48.7  86.6  19.9   -6.7    132     3.4  0.99\n",
       "..   ...   ...   ...   ...    ...    ...     ...   ...\n",
       "90  7.22    41  79.1  22.1   -4.9    137  .73.33  0.89\n",
       "91  7.26  41.7    75  20.2  - 6.4    141    2.90  0.77\n",
       "92  7.37    44  105.  18.2  - 7.4    141    2.55  0.65\n",
       "93  7.36    45  87.3    20   -7.3   145.    4.28  1.23\n",
       "94  7.29  53.6  69.3  17.7  - 9.9  136.4  .71.36  0.47\n",
       "\n",
       "[95 rows x 8 columns]"
      ]
     },
     "execution_count": 10,
     "metadata": {},
     "output_type": "execute_result"
    }
   ],
   "source": [
    "data[parameters]"
   ]
  },
  {
   "cell_type": "code",
   "execution_count": 11,
   "metadata": {},
   "outputs": [
    {
     "data": {
      "text/plain": [
       "Agravantes     True\n",
       "Antibiotico    True\n",
       "dtype: bool"
      ]
     },
     "execution_count": 11,
     "metadata": {},
     "output_type": "execute_result"
    }
   ],
   "source": [
    "null = (data.isnull().sum() > 0)\n",
    "null[null == True]"
   ]
  },
  {
   "cell_type": "code",
   "execution_count": 12,
   "metadata": {},
   "outputs": [
    {
     "data": {
      "text/plain": [
       "0     IRA\n",
       "1     NaN\n",
       "2     IRA\n",
       "3     NaN\n",
       "4     NaN\n",
       "     ... \n",
       "90    NaN\n",
       "91    NaN\n",
       "92    NaN\n",
       "93    NaN\n",
       "94    IRA\n",
       "Name: Agravantes , Length: 95, dtype: object"
      ]
     },
     "execution_count": 12,
     "metadata": {},
     "output_type": "execute_result"
    }
   ],
   "source": [
    "data['Agravantes ']"
   ]
  },
  {
   "cell_type": "code",
   "execution_count": 13,
   "metadata": {},
   "outputs": [
    {
     "data": {
      "text/plain": [
       "0               TRIFAMOX/CEFTRIAXONA/GENTAMICINA\n",
       "1                         PIPERAZAM/METRONIDAZOL\n",
       "2                                      PIPERAZAM\n",
       "3           Ceftriaxon/Metronidazol/ Gentamicina\n",
       "4                         Cefepime+ metronidazol\n",
       "                         ...                    \n",
       "90                                     Meropenem\n",
       "91                                     Piperazam\n",
       "92    Ceftriaxona -- Metronidazol -- Gentamicina\n",
       "93                                   Ceftriaxona\n",
       "94                         Ceftriaxona Amikacina\n",
       "Name: Antibiotico, Length: 95, dtype: object"
      ]
     },
     "execution_count": 13,
     "metadata": {},
     "output_type": "execute_result"
    }
   ],
   "source": [
    "data['Antibiotico']"
   ]
  },
  {
   "cell_type": "code",
   "execution_count": 14,
   "metadata": {},
   "outputs": [
    {
     "data": {
      "text/plain": [
       "Index(['Nombre y Apellidos', 'Fecha ingeso ', 'Fecha egreso ',\n",
       "       'Estadia Hospitalaria', 'Estado del egreso', 'Edad', 'Sexo', 'Raza',\n",
       "       'Ventilacion', 'APP', 'Sin antecedentes', 'Materna', 'HTA', 'DM', 'CI',\n",
       "       'AB', 'EPOC', 'LES', 'Epilepsia', 'tiroides',\n",
       "       'Consumidos de beidas alcolicas', 'Fumador', 'obesidad', 'DX Ingreso',\n",
       "       'Apendicitis Aguda ', 'Patologias Biliares ', 'Diverticulitis',\n",
       "       'Perforacion GASTRICA/duodenal', 'Peritonitis urinaria',\n",
       "       'Pelvis peritonitis', 'Fuga de anastomosis',\n",
       "       'peritonitis postraumatica', 'Cirugia de control de daño',\n",
       "       'Cirugia tumoral', 'Abcedadas', 'OIMB', 'Cirugia de traumas',\n",
       "       'Total de diagnosticos', 'Indice de mannheim', 'Apache al ingreso',\n",
       "       'Agravantes ', 'Sin agravantes', 'IRA', 'FMO', 'Shock septico', ' ARDS',\n",
       "       'Shock mixto', 'Disfunciòn Hepàtica', 'CID', 'TEP', 'HDA', 'TVP',\n",
       "       'OTRAS', 'Valores de Gasometria', 'Trastorno metabòlico',\n",
       "       'Acidosis metabòlica', 'Trastorno de Sodio', 'Trastornos del Potasio',\n",
       "       'Trastornos del calcio', 'Antibiotico', 'Germen', 'CONTAMINADAS ',\n",
       "       'PROTEUS', 'SCN', 'Pseudomona aeruginosa', 'klebsiella pn',\n",
       "       'klebsiella/proteus', 'klebsiella/pseudomona',\n",
       "       'klebsiella/Acynetobacter', 'E Coli ', 'Ecoli/enterobacter',\n",
       "       'Ecoli/Pseudomona', 'E coli/proteus', 'E coli/Klebsiella',\n",
       "       'Actinectobacter', 'Enterobacter', 'enterobacter/proteus',\n",
       "       'Tipo de cirugia ', 'TIEMPO CIRUGIA INICIAL ', 'EXTRAHOSPITALARIA ',\n",
       "       'NUMERO DE REINTERVENCIONES', 'NUMERO INTERVENCIONES',\n",
       "       'Tiempo quirurgico', 'PH', 'PCO2', 'PO2', 'SB', 'EB', 'NA', 'K', 'CA'],\n",
       "      dtype='object')"
      ]
     },
     "execution_count": 14,
     "metadata": {},
     "output_type": "execute_result"
    }
   ],
   "source": [
    "data.columns"
   ]
  },
  {
   "cell_type": "code",
   "execution_count": 15,
   "metadata": {},
   "outputs": [],
   "source": [
    "data.drop(columns=['Nombre y Apellidos', 'Fecha ingeso ', 'Fecha egreso ', 'Valores de Gasometria', 'Agravantes ', 'Sin agravantes', 'Disfunciòn Hepàtica', 'OTRAS', 'TVP', 'TEP', 'HDA', 'Germen', 'APP', 'Antibiotico', 'DX Ingreso'], axis=1, inplace=True)"
   ]
  },
  {
   "cell_type": "code",
   "execution_count": 16,
   "metadata": {},
   "outputs": [],
   "source": [
    "data.columns = [col.strip() for col in data.columns]"
   ]
  },
  {
   "cell_type": "code",
   "execution_count": 17,
   "metadata": {},
   "outputs": [
    {
     "data": {
      "text/plain": [
       "Index(['Estadia Hospitalaria', 'Estado del egreso', 'Edad', 'Sexo', 'Raza',\n",
       "       'Ventilacion', 'Sin antecedentes', 'Materna', 'HTA', 'DM', 'CI', 'AB',\n",
       "       'EPOC', 'LES', 'Epilepsia', 'tiroides',\n",
       "       'Consumidos de beidas alcolicas', 'Fumador', 'obesidad',\n",
       "       'Apendicitis Aguda', 'Patologias Biliares', 'Diverticulitis',\n",
       "       'Perforacion GASTRICA/duodenal', 'Peritonitis urinaria',\n",
       "       'Pelvis peritonitis', 'Fuga de anastomosis',\n",
       "       'peritonitis postraumatica', 'Cirugia de control de daño',\n",
       "       'Cirugia tumoral', 'Abcedadas', 'OIMB', 'Cirugia de traumas',\n",
       "       'Total de diagnosticos', 'Indice de mannheim', 'Apache al ingreso',\n",
       "       'IRA', 'FMO', 'Shock septico', 'ARDS', 'Shock mixto', 'CID',\n",
       "       'Trastorno metabòlico', 'Acidosis metabòlica', 'Trastorno de Sodio',\n",
       "       'Trastornos del Potasio', 'Trastornos del calcio', 'CONTAMINADAS',\n",
       "       'PROTEUS', 'SCN', 'Pseudomona aeruginosa', 'klebsiella pn',\n",
       "       'klebsiella/proteus', 'klebsiella/pseudomona',\n",
       "       'klebsiella/Acynetobacter', 'E Coli', 'Ecoli/enterobacter',\n",
       "       'Ecoli/Pseudomona', 'E coli/proteus', 'E coli/Klebsiella',\n",
       "       'Actinectobacter', 'Enterobacter', 'enterobacter/proteus',\n",
       "       'Tipo de cirugia', 'TIEMPO CIRUGIA INICIAL', 'EXTRAHOSPITALARIA',\n",
       "       'NUMERO DE REINTERVENCIONES', 'NUMERO INTERVENCIONES',\n",
       "       'Tiempo quirurgico', 'PH', 'PCO2', 'PO2', 'SB', 'EB', 'NA', 'K', 'CA'],\n",
       "      dtype='object')"
      ]
     },
     "execution_count": 17,
     "metadata": {},
     "output_type": "execute_result"
    }
   ],
   "source": [
    "data.columns"
   ]
  },
  {
   "cell_type": "code",
   "execution_count": null,
   "metadata": {},
   "outputs": [
    {
     "name": "stdout",
     "output_type": "stream",
     "text": [
      "PO2    float64\n",
      "EB     float64\n",
      "K      float64\n",
      "dtype: object\n",
      "PO2    0\n",
      "EB     0\n",
      "K      0\n",
      "dtype: int64\n"
     ]
    },
    {
     "name": "stderr",
     "output_type": "stream",
     "text": [
      "C:\\Users\\User\\AppData\\Local\\Temp\\ipykernel_22428\\713411501.py:24: FutureWarning: A value is trying to be set on a copy of a DataFrame or Series through chained assignment using an inplace method.\n",
      "The behavior will change in pandas 3.0. This inplace method will never work because the intermediate object on which we are setting values always behaves as a copy.\n",
      "\n",
      "For example, when doing 'df[col].method(value, inplace=True)', try using 'df.method({col: value}, inplace=True)' or df[col] = df[col].method(value) instead, to perform the operation inplace on the original object.\n",
      "\n",
      "\n",
      "  data[col].fillna(data[col].mean(), inplace=True)\n"
     ]
    }
   ],
   "source": [
    "import numpy as np\n",
    "\n",
    "cols_to_clean = ['PO2', 'EB', 'K']\n",
    "\n",
    "def clean_to_float(x):\n",
    "    if pd.isna(x):\n",
    "        return np.nan\n",
    "    try:\n",
    "        x = str(x).strip().replace(\",\", \".\")\n",
    "        x = x.replace(\"−\", \"-\").replace(\"–\", \"-\")\n",
    "        return float(x)\n",
    "    except:\n",
    "        return np.nan\n",
    "\n",
    "\n",
    "for col in cols_to_clean:\n",
    "    data[col] = data[col].apply(clean_to_float)\n",
    "\n",
    "\n",
    "print(data[cols_to_clean].dtypes)\n",
    "\n",
    "\n",
    "for col in cols_to_clean:\n",
    "    data[col].fillna(data[col].mean(), inplace=True)\n",
    "\n",
    "\n",
    "print(data[cols_to_clean].isna().sum())"
   ]
  },
  {
   "cell_type": "code",
   "execution_count": 19,
   "metadata": {},
   "outputs": [],
   "source": [
    "data.to_csv(\"data/processed/data.csv\", index=False)"
   ]
  }
 ],
 "metadata": {
  "kernelspec": {
   "display_name": "base",
   "language": "python",
   "name": "python3"
  },
  "language_info": {
   "codemirror_mode": {
    "name": "ipython",
    "version": 3
   },
   "file_extension": ".py",
   "mimetype": "text/x-python",
   "name": "python",
   "nbconvert_exporter": "python",
   "pygments_lexer": "ipython3",
   "version": "3.12.7"
  }
 },
 "nbformat": 4,
 "nbformat_minor": 2
}
