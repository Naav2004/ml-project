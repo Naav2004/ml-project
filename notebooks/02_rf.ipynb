{
 "cells": [
  {
   "cell_type": "code",
   "execution_count": 1,
   "id": "a1c41c8f",
   "metadata": {},
   "outputs": [],
   "source": [
    "import os\n",
    "os.chdir('../')\n",
    "\n",
    "import pandas as pd\n",
    "import numpy as np\n",
    "\n",
    "from sklearn.pipeline import Pipeline\n",
    "from sklearn.model_selection import cross_val_score, StratifiedKFold, GridSearchCV\n",
    "from sklearn.linear_model import LogisticRegression\n",
    "from sklearn.svm import SVC\n",
    "from sklearn.ensemble import RandomForestClassifier"
   ]
  },
  {
   "cell_type": "code",
   "execution_count": 2,
   "id": "2dd38245",
   "metadata": {},
   "outputs": [],
   "source": [
    "df = pd.read_csv('data/pre-model/data.csv')"
   ]
  },
  {
   "cell_type": "code",
   "execution_count": 3,
   "id": "e8c5eb4b",
   "metadata": {},
   "outputs": [],
   "source": [
    "X, y  = df.drop('Estado del egreso', axis = 1), df['Estado del egreso']"
   ]
  },
  {
   "cell_type": "code",
   "execution_count": 4,
   "id": "d06b639a",
   "metadata": {},
   "outputs": [],
   "source": [
    "rf_params = {\n",
    "    'n_estimators': [200, 300, 350],\n",
    "    'max_depth': [6, 10, 12],\n",
    "    'min_samples_leaf': [2, 4, 6],\n",
    "    'min_samples_split': [2, 4, 10],\n",
    "    'criterion': ['gini', 'entropy']\n",
    "}"
   ]
  },
  {
   "cell_type": "code",
   "execution_count": 6,
   "id": "0d6a3089",
   "metadata": {},
   "outputs": [],
   "source": [
    "rf = RandomForestClassifier(random_state = 1)"
   ]
  },
  {
   "cell_type": "code",
   "execution_count": 7,
   "id": "5e3f868e",
   "metadata": {},
   "outputs": [
    {
     "name": "stdout",
     "output_type": "stream",
     "text": [
      "{'criterion': 'gini', 'max_depth': 6, 'min_samples_leaf': 6, 'min_samples_split': 2, 'n_estimators': 200} 0.8933333333333333\n"
     ]
    }
   ],
   "source": [
    "skf = StratifiedKFold(n_splits=5, shuffle=True, random_state=1)\n",
    "grid = GridSearchCV(rf, rf_params,scoring= 'f1', cv=skf)\n",
    "grid.fit(X,y)\n",
    "print(grid.best_params_,grid.best_score_)\n",
    "best= grid.best_estimator_"
   ]
  },
  {
   "cell_type": "code",
   "execution_count": 11,
   "id": "a68ba31c",
   "metadata": {},
   "outputs": [
    {
     "data": {
      "text/plain": [
       "Index(['Ventilacion', 'Shock septico', 'Trastorno metabòlico',\n",
       "       'Acidosis metabòlica'],\n",
       "      dtype='object')"
      ]
     },
     "execution_count": 11,
     "metadata": {},
     "output_type": "execute_result"
    }
   ],
   "source": [
    "from sklearn.feature_selection import SelectFromModel\n",
    "import copy\n",
    "\n",
    "selector = SelectFromModel(best,threshold='mean').fit(X,y)\n",
    "X_select = selector.transform(X)\n",
    "\n",
    "feature_names = X.columns[selector.get_support()]\n",
    "X_select_df = pd.DataFrame(X_select, columns=feature_names)\n",
    "\n",
    "rf_ = copy.deepcopy(rf)\n",
    "tuned_rf = rf.fit(X_select_df, y)\n",
    "\n",
    "feature_names"
   ]
  },
  {
   "cell_type": "code",
   "execution_count": 13,
   "id": "102af9f7",
   "metadata": {},
   "outputs": [
    {
     "data": {
      "text/plain": [
       "0.831048951048951"
      ]
     },
     "execution_count": 13,
     "metadata": {},
     "output_type": "execute_result"
    }
   ],
   "source": [
    "f1 = cross_val_score(tuned_rf, X, y, cv=skf, scoring='f1').mean()\n",
    "f1"
   ]
  },
  {
   "cell_type": "code",
   "execution_count": 14,
   "id": "43e5442e",
   "metadata": {},
   "outputs": [],
   "source": [
    "import pickle as pkl\n",
    "with open(\"models/rf.pkl\",'wb') as f:\n",
    "    pkl.dump(tuned_rf,f)\n"
   ]
  }
 ],
 "metadata": {
  "kernelspec": {
   "display_name": "base",
   "language": "python",
   "name": "python3"
  },
  "language_info": {
   "codemirror_mode": {
    "name": "ipython",
    "version": 3
   },
   "file_extension": ".py",
   "mimetype": "text/x-python",
   "name": "python",
   "nbconvert_exporter": "python",
   "pygments_lexer": "ipython3",
   "version": "3.12.7"
  }
 },
 "nbformat": 4,
 "nbformat_minor": 5
}
